{
  "cells": [
    {
      "cell_type": "code",
      "execution_count": null,
      "metadata": {
        "colab": {
          "base_uri": "https://localhost:8080/"
        },
        "id": "ickWvTkz8vqq",
        "outputId": "114beb91-c798-4da5-dd00-9f3b64e09cd7"
      },
      "outputs": [
        {
          "name": "stdout",
          "output_type": "stream",
          "text": [
            "Reading package lists... Done\n",
            "Building dependency tree       \n",
            "Reading state information... Done\n",
            "The following packages were automatically installed and are no longer required:\n",
            "  libnvidia-common-460 nsight-compute-2020.2.0\n",
            "Use 'sudo apt autoremove' to remove them.\n",
            "The following NEW packages will be installed:\n",
            "  fonts-nanum\n",
            "0 upgraded, 1 newly installed, 0 to remove and 42 not upgraded.\n",
            "Need to get 9,604 kB of archives.\n",
            "After this operation, 29.5 MB of additional disk space will be used.\n",
            "Get:1 http://archive.ubuntu.com/ubuntu bionic/universe amd64 fonts-nanum all 20170925-1 [9,604 kB]\n",
            "Fetched 9,604 kB in 1s (10.5 MB/s)\n",
            "debconf: unable to initialize frontend: Dialog\n",
            "debconf: (No usable dialog-like program is installed, so the dialog based frontend cannot be used. at /usr/share/perl5/Debconf/FrontEnd/Dialog.pm line 76, <> line 1.)\n",
            "debconf: falling back to frontend: Readline\n",
            "debconf: unable to initialize frontend: Readline\n",
            "debconf: (This frontend requires a controlling tty.)\n",
            "debconf: falling back to frontend: Teletype\n",
            "dpkg-preconfigure: unable to re-open stdin: \n",
            "Selecting previously unselected package fonts-nanum.\n",
            "(Reading database ... 155203 files and directories currently installed.)\n",
            "Preparing to unpack .../fonts-nanum_20170925-1_all.deb ...\n",
            "Unpacking fonts-nanum (20170925-1) ...\n",
            "Setting up fonts-nanum (20170925-1) ...\n",
            "Processing triggers for fontconfig (2.12.6-0ubuntu2) ...\n",
            "/usr/share/fonts: caching, new cache contents: 0 fonts, 1 dirs\n",
            "/usr/share/fonts/truetype: caching, new cache contents: 0 fonts, 3 dirs\n",
            "/usr/share/fonts/truetype/humor-sans: caching, new cache contents: 1 fonts, 0 dirs\n",
            "/usr/share/fonts/truetype/liberation: caching, new cache contents: 16 fonts, 0 dirs\n",
            "/usr/share/fonts/truetype/nanum: caching, new cache contents: 10 fonts, 0 dirs\n",
            "/usr/local/share/fonts: caching, new cache contents: 0 fonts, 0 dirs\n",
            "/root/.local/share/fonts: skipping, no such directory\n",
            "/root/.fonts: skipping, no such directory\n",
            "/var/cache/fontconfig: cleaning cache directory\n",
            "/root/.cache/fontconfig: not cleaning non-existent cache directory\n",
            "/root/.fontconfig: not cleaning non-existent cache directory\n",
            "fc-cache: succeeded\n"
          ]
        }
      ],
      "source": [
        "!sudo apt-get install -y fonts-nanum\n",
        "!sudo fc-cache -fv\n",
        "!rm ~/.cache/matplotlib -rf"
      ]
    },
    {
      "cell_type": "code",
      "execution_count": null,
      "metadata": {
        "id": "opwhgy6Y6O-t"
      },
      "outputs": [],
      "source": [
        "import matplotlib.pyplot as plt\n",
        "import pandas as pd\n",
        "import numpy as np\n",
        "from matplotlib.backends.backend_pdf import PdfPages"
      ]
    },
    {
      "cell_type": "code",
      "execution_count": null,
      "metadata": {
        "id": "o0-f6dQJB5G3"
      },
      "outputs": [],
      "source": [
        "plt.rc('font', family='NanumBarunGothic') \n",
        "\n",
        "##google spreadsheet에서 데이터 받아옴\n",
        "from google.colab import auth\n",
        "auth.authenticate_user()\n",
        "\n",
        "import gspread\n",
        "from google.auth import default\n",
        "creds, _ = default()\n",
        "\n",
        "gc = gspread.authorize(creds)"
      ]
    },
    {
      "cell_type": "code",
      "execution_count": null,
      "metadata": {
        "id": "3hIRobpiBnNB"
      },
      "outputs": [],
      "source": [
        "#1. 질문을 한번이라도 한 사람들의 성적\n",
        "# 현재는 예시 데이터 시트로 그래프를 그림\n",
        "worksheet1 = gc.open('[Rating] 그래프 그리기 이전 단계에서 필요한 자료').get_worksheet(0)\n",
        "#2. 질의글을 여러번 올린 사람\n",
        "worksheet2 = gc.open('[Rating] 그래프 그리기 이전 단계에서 필요한 자료').get_worksheet(2)\n",
        "#[최종 점수 산출 표]\n",
        "worksheet3 = gc.open('[최종 점수 산출 표]').sheet1\n",
        "#[다회 질문자 점수 수합표]\n",
        "worksheet4 = gc.open('[다회 질문자 점수 수합표]').get_worksheet(1)"
      ]
    },
    {
      "cell_type": "code",
      "execution_count": null,
      "metadata": {
        "id": "jpk729I76eaj"
      },
      "outputs": [],
      "source": []
    },
    {
      "cell_type": "markdown",
      "metadata": {
        "id": "7fqxKwGc6Y3K"
      },
      "source": [
        "#😹 runtime 초기화하고나면 여기까지 재실행해야함"
      ]
    },
    {
      "cell_type": "code",
      "execution_count": null,
      "metadata": {
        "colab": {
          "base_uri": "https://localhost:8080/",
          "height": 1000
        },
        "id": "Iwi8cWdy9h-C",
        "outputId": "5e2e187d-7cde-4329-cc5a-60e39f47394c"
      },
      "outputs": [],
      "source": [
        "\n",
        "\n",
        "\n",
        "# get_all_values gives a list of rows.\n",
        "rows1 = worksheet1.get_all_values()\n",
        "\n",
        "##google spreadsheet에서 데이터 받아옴\n",
        "\n",
        "# Convert to a DataFrame and render.\n",
        "pd.DataFrame.from_records(rows1)\n"
      ]
    },
    {
      "cell_type": "code",
      "execution_count": null,
      "metadata": {
        "id": "iyaGGTXI8QVM"
      },
      "outputs": [],
      "source": [
        "#\n",
        "# plot() 함수에 x 값, y 값, 스타일을 순서대로 세 번씩 입력하면, \n",
        "#세 개의 곡선 (y=x, y=x^2, y=x^3)이 동시에 그려집니다.\n",
        "# ‘r–‘은 빨간색 (Red)의 대쉬 (Dashed) 스타일 선,\n",
        "# ‘bo’는 파란색 (Blue)의 원형 (Circle) 마커,\n",
        "# ‘g-.’은 녹색 (Green)의 대쉬-닷 (Dash-dot) 스타일 선을 의미합니다."
      ]
    },
    {
      "cell_type": "code",
      "execution_count": null,
      "metadata": {
        "colab": {
          "base_uri": "https://localhost:8080/",
          "height": 1000
        },
        "id": "yHzCvRaqAg1D",
        "outputId": "39b6a1d2-417d-4d63-bae2-b4daefd280e1"
      },
      "outputs": [],
      "source": [
        "# Bell Curve 그래프 그리는 코드(일부)\n",
        "worksheetForIncrease = gc.open('[Rating] 그래프 그리기 이전 단계에서 필요한 자료').get_worksheet(2)\n",
        "stage = worksheet1.row_values(2)[5:]\n",
        "fig=plt.figure()\n",
        "\n",
        "with PdfPages(\"dataForIncrease.pdf\") as pdf:\n",
        "  for i in range(4, 9):\n",
        "    rows = worksheetForIncrease.row_values(i)\n",
        "    title = rows[3]\n",
        "    score = list(map(float,rows[5:]))\n",
        "    #plt.figure(figsize=(10, 20))\n",
        "    #plt.subplot(2, 2, i-3)                # nrows=2, ncols=1, index=1\n",
        "\n",
        "    plt.subplots_adjust(hspace=2)\n",
        "    plt.tight_layout()\n",
        "\n",
        "    plt.ylim(0,100)\n",
        "    plt.xticks([])\n",
        "    # plt.yticks([])\n",
        "    \n",
        "    # plt.gca().invert_yaxis()\n",
        "    \n",
        "    plt.xlabel('stage')\n",
        "    plt.ylabel('score')\n",
        "    plt.title(title)\n",
        "    plt.plot(stage, score)\n",
        "\n",
        "# plt.savefig('myData.pdf')\n",
        "    print('saving...')\n",
        "    plt.show()       \n",
        "    pdf.savefig(fig)\n",
        "    plt.close()\n",
        "    fig=plt.figure()\n",
        "\n"
      ]
    },
    {
      "cell_type": "code",
      "execution_count": null,
      "metadata": {
        "colab": {
          "base_uri": "https://localhost:8080/",
          "height": 1000
        },
        "id": "KOB95GMUP7KF",
        "outputId": "f623c1cb-2b20-4aee-cbed-ad566dc5bf50"
      },
      "outputs": [],
      "source": [
        "# Bell Curve 그래프 그리는 코드(전원)\n",
        "worksheetForExpert = gc.open('[Rating] 그래프 그리기 이전 단계에서 필요한 자료').get_worksheet(6)\n",
        "stage = worksheetForExpert.row_values(19)[7:49]\n",
        "fig=plt.figure()\n",
        "K=1\n",
        "with PdfPages(\"expertData.pdf\") as pdf:\n",
        "  for i in range(21, 160):\n",
        "    try:\n",
        "      rows = worksheetForExpert.row_values(i)\n",
        "      title = rows[4]\n",
        "      score = list(map(float,rows[7:49]))\n",
        "      #plt.figure(figsize=(10, 20))\n",
        "                    # nrows=2, ncols=1, index=1\n",
        "      plt.subplot(2, 2, K)\n",
        "      plt.subplots_adjust(hspace=2)\n",
        "      plt.tight_layout()\n",
        "\n",
        "      plt.ylim(0,100)\n",
        "      plt.xticks([])\n",
        "      # plt.yticks([])\n",
        "      \n",
        "      # plt.gca().invert_yaxis()\n",
        "      \n",
        "      plt.xlabel('stage')\n",
        "      plt.ylabel('score')\n",
        "      plt.title(title)\n",
        "      plt.plot(stage, score)\n",
        "\n",
        "      if K == 4:\n",
        "        print('saving...')\n",
        "        plt.show()       \n",
        "        pdf.savefig(fig)\n",
        "        plt.close()\n",
        "        fig=plt.figure()\n",
        "        K=1\n",
        "      else:\n",
        "        K+=1\n",
        "    except:\n",
        "      print(i)\n",
        "\n",
        "\n"
      ]
    },
    {
      "cell_type": "code",
      "execution_count": null,
      "metadata": {
        "colab": {
          "base_uri": "https://localhost:8080/",
          "height": 1000
        },
        "id": "U8OAia1Psrn5",
        "outputId": "8e4b3ab6-8a9f-411a-9f3c-5539c6e2864a"
      },
      "outputs": [],
      "source": [
        "# Bell Curve 그래프 그리는 코드(전원)\n",
        "worksheetForExpert = gc.open('[Rating] 그래프 그리기 이전 단계에서 필요한 자료').get_worksheet(7)\n",
        "\n",
        "fig=plt.figure()\n",
        "K=1\n",
        "with PdfPages(\"noQData.pdf\") as pdf:\n",
        "  for i in range(288, 450):\n",
        "    # try:\n",
        "      rows = worksheetForExpert.row_values(i)\n",
        "      title = rows[4]\n",
        "      score = list(map(float,rows[7:]))\n",
        "      stage = stage = list(np.arange(1,len(score)+1))\n",
        "      #plt.figure(figsize=(10, 20))\n",
        "                    # nrows=2, ncols=1, index=1\n",
        "      plt.subplot(2, 2, K)\n",
        "      plt.subplots_adjust(hspace=2)\n",
        "      plt.tight_layout()\n",
        "\n",
        "      plt.ylim(0,100)\n",
        "      plt.xticks([])\n",
        "      # plt.yticks([])\n",
        "      \n",
        "      # plt.gca().invert_yaxis()\n",
        "      \n",
        "      plt.xlabel('stage')\n",
        "      plt.ylabel('score')\n",
        "      plt.title(title)\n",
        "      plt.plot(stage, score)\n",
        "\n",
        "      if K == 4:\n",
        "        print('saving...')\n",
        "        plt.show()       \n",
        "        pdf.savefig(fig)\n",
        "        plt.close()\n",
        "        fig=plt.figure()\n",
        "        K=1\n",
        "      else:\n",
        "        K+=1\n",
        "    # except:\n",
        "    #   print(i)\n",
        "\n",
        "\n"
      ]
    },
    {
      "cell_type": "code",
      "execution_count": null,
      "metadata": {
        "colab": {
          "base_uri": "https://localhost:8080/",
          "height": 1000
        },
        "id": "aawjA42nRjOg",
        "outputId": "31e9b514-7393-4251-b621-e9879b028b81"
      },
      "outputs": [],
      "source": [
        "# Bell Curve 그래프 그리는 코드(질문점수별)\n",
        "worksheetForExpert = gc.open('[Rating] 그래프 그리기 이전 단계에서 필요한 자료').get_worksheet(8)\n",
        "fig=plt.figure()\n",
        "K=1\n",
        "with PdfPages(\"noQdata(h).pdf\") as pdf:\n",
        "  for i in range(21, 300):\n",
        "    # try:\n",
        "      newRows = []\n",
        "      \n",
        "      rows = worksheetForExpert.row_values(i)\n",
        "      title = rows[4],rows[5]\n",
        "      for value in rows[7:]:\n",
        "        try: \n",
        "          if 0 < float(value):\n",
        "            newRows.append(value)\n",
        "        except:\n",
        "          print(value)  \n",
        "\n",
        "      print(newRows)\n",
        "      \n",
        "      score = list(map(float,newRows))\n",
        "      # print(len(score))\n",
        "      stage = list(np.arange(1,len(score)+1))\n",
        "      # print(type(np.arange(1,len(score)+1)))\n",
        "\n",
        "      # plt.subplot(2, 2, K)\n",
        "      plt.subplots_adjust(hspace=2)\n",
        "      plt.tight_layout()\n",
        "\n",
        "      plt.ylim(0,100)\n",
        "      plt.xticks([])\n",
        "      # plt.yticks([])\n",
        "      \n",
        "      # plt.gca().invert_yaxis()\n",
        "      \n",
        "      plt.xlabel('stage')\n",
        "      plt.ylabel('score')\n",
        "      plt.title(title)\n",
        "      plt.plot(stage, score)\n",
        "\n",
        "      # if K == 4:\n",
        "      print('saving...')\n",
        "      plt.show()       \n",
        "      pdf.savefig(fig)\n",
        "      plt.close()\n",
        "      fig=plt.figure()\n",
        "      #   K=1\n",
        "      # else:\n",
        "      #   K+=1\n",
        "    # except:\n",
        "    #   print(i,'행 패스')\n",
        "\n",
        "\n"
      ]
    },
    {
      "cell_type": "code",
      "execution_count": null,
      "metadata": {
        "id": "eFBfjWq8V59h"
      },
      "outputs": [],
      "source": [
        "# Bell Curve 그래프 그리는 코드(전원)\n",
        "worksheetForExpert = gc.open('[Rating] 그래프 그리기 이전 단계에서 필요한 자료').get_worksheet(8)\n",
        "stage = worksheet1.row_values(2)[5:]\n",
        "\n",
        "fig=plt.figure()\n",
        "K=1\n",
        "with PdfPages(\"noQdata(h).pdf\") as pdf:\n",
        "  for i in range(21, 563):\n",
        "    rows = worksheet1.row_values(i)\n",
        "    title = rows[3]\n",
        "    score = list(map(float,rows[5:]))\n",
        "    #plt.figure(figsize=(10, 20))\n",
        "                   # nrows=2, ncols=1, index=1\n",
        "    plt.subplot(2, 2, K)\n",
        "    plt.subplots_adjust(hspace=2)\n",
        "    plt.tight_layout()\n",
        "\n",
        "    plt.ylim(0,100)\n",
        "    plt.xticks([])\n",
        "    # plt.yticks([])\n",
        "    \n",
        "    # plt.gca().invert_yaxis()\n",
        "     \n",
        "    plt.xlabel('stage')\n",
        "    plt.ylabel('score')\n",
        "    plt.title(title)\n",
        "    plt.plot(stage, score)\n",
        "\n",
        "    if K == 4:\n",
        "      print('saving...')\n",
        "      plt.show()       \n",
        "      pdf.savefig(fig)\n",
        "      plt.close()\n",
        "      fig=plt.figure()\n",
        "      K=1\n",
        "    else:\n",
        "      K+=1\n",
        "\n",
        "\n"
      ]
    },
    {
      "cell_type": "code",
      "execution_count": null,
      "metadata": {
        "id": "48YytuvdEApD"
      },
      "outputs": [],
      "source": [
        "# 질문수 21 개 ~ 질문수 4 개 인 사람들의 이름과 게시글 index를 저장하는 코드\n",
        "qnalist = []\n",
        "\n",
        "for i in range(4,87):\n",
        "  rows3 = worksheet2.row_values(i)\n",
        "  # print(rows3[4])\n",
        "  indexList = rows3[4].split(',')\n",
        "  indexList.sort()\n",
        "  qnalist.append([rows3[2],indexList])\n",
        "  \n",
        "\n",
        "\n",
        "# print(qnalist)\n"
      ]
    },
    {
      "cell_type": "code",
      "execution_count": null,
      "metadata": {
        "id": "VYVJe4H2F2gE"
      },
      "outputs": [],
      "source": [
        "# rating 시트에서 게시글 index를 찾아 최종점수를 가져오는 코드\n",
        "\n",
        "rating_list = []\n",
        "\n",
        "for i in qnalist:\n",
        "  for j in i[1]:\n",
        "    try:\n",
        "      # 만약 index가 있다면\n",
        "      # if worksheet3.find(j).row is not None:  \n",
        "\n",
        "      findRowNum = worksheet3.find(j).row\n",
        "      findRow = worksheet3.row_values(findRowNum)[6:8] \n",
        "      rating_list.append([i[0],j,findRow[0],findRow[1]])\n",
        "      print([i[0],j,findRow[0],findRow[1]])\n",
        "\n",
        "    except:\n",
        "      # index가 없다면 그냥 지나감.\n",
        "      pass"
      ]
    },
    {
      "cell_type": "code",
      "execution_count": null,
      "metadata": {
        "id": "gtUScJm_KKKQ"
      },
      "outputs": [],
      "source": [
        "#수합한 자료 스프레드 시트에 작성하는 코드\n",
        "\n",
        "cell_list = worksheet4.range('A1:D100')\n",
        "print(rating_list[0])\n",
        "\n",
        "\n",
        "for i in range (len(rating_list)):\n",
        "  for j in range (len(rating_list[i])):\n",
        "    # print(rating_list[i][j])\n",
        "    worksheet4.update_cell(i+1,j+1, rating_list[i][j])\n"
      ]
    },
    {
      "cell_type": "code",
      "execution_count": null,
      "metadata": {
        "colab": {
          "base_uri": "https://localhost:8080/"
        },
        "id": "Kmy54CIXXyVw",
        "outputId": "415ff744-3f0e-4b74-ea2e-6124e75d2195"
      },
      "outputs": [
        {
          "name": "stdout",
          "output_type": "stream",
          "text": [
            "<matplotlib.backends.backend_pdf.PdfPages object at 0x7f554229b0d0>\n"
          ]
        }
      ],
      "source": []
    },
    {
      "attachments": {},
      "cell_type": "markdown",
      "metadata": {
        "id": "OOVDm7dyyzSn"
      },
      "source": [
        "1 ~ 135"
      ]
    },
    {
      "cell_type": "code",
      "execution_count": null,
      "metadata": {
        "colab": {
          "base_uri": "https://localhost:8080/",
          "height": 1000
        },
        "id": "xScQb-LE_Hui",
        "outputId": "76537a54-6f00-4228-f810-be8c6d8c3fca"
      },
      "outputs": [],
      "source": [
        "#그래프 그리는 코드\n",
        "score=[]\n",
        "index=[]\n",
        "#첫번째 사람의 첫번째 데이터 인덱스\n",
        "group = [1]\n",
        "K=1\n",
        "fig=plt.figure()\n",
        "#pdf 제목\n",
        "with PdfPages(\"askedManyQ.pdf\") as pdf:\n",
        "  #첫번째 사람의 두번째 인덱스부터 입력\n",
        "  for i in range(2,150):\n",
        "    if i>1 and worksheet4.row_values(i)[0] == worksheet4.row_values(i-1)[0]:\n",
        "      group.append(i)\n",
        "    else:\n",
        "      if len(group)>1:\n",
        "        try:\n",
        "          score = list(map(float, worksheet4.col_values(4)[group[0]-1:group[-1]]))\n",
        "          index = list(np.arange(1,len(group)+1))\n",
        "        except:\n",
        "          print('error',i,worksheet4.col_values(4)[i])\n",
        "          # index.sort()\n",
        "        group = [i]\n",
        "      else:\n",
        "        group=[]\n",
        "      plt.subplot(2, 2, K)\n",
        "      title = worksheet4.row_values(i-1)[0]\n",
        "      # x축 y축의 숫자들을 숨기는 코드 \n",
        "        # plt.xticks([])\n",
        "        # plt.yticks([])\n",
        "      #그래프 설정\n",
        "      print(K,\"타이틀 => \",title)\n",
        "      plt.title(title)\n",
        "      plt.ylim(0,5)\n",
        "      plt.tight_layout()\n",
        "      plt.xlabel('index')\n",
        "      plt.ylabel('score')\n",
        "      plt.subplots_adjust(hspace=1)\n",
        "\n",
        "      #그래프 그림\n",
        "      plt.plot(index, score, marker='o')\n",
        "\n",
        "      #한 페이지에 그래프 4개 들어가게 설정\n",
        "      if K == 4:\n",
        "        print('saving...')\n",
        "        plt.show()       \n",
        "        pdf.savefig(fig)\n",
        "        plt.close()\n",
        "        fig=plt.figure()\n",
        "        K=1\n",
        "      else:\n",
        "        K+=1\n"
      ]
    },
    {
      "attachments": {},
      "cell_type": "markdown",
      "metadata": {
        "id": "leKdMAcmy_1j"
      },
      "source": [
        "136 ~ 262"
      ]
    },
    {
      "cell_type": "code",
      "execution_count": null,
      "metadata": {
        "colab": {
          "base_uri": "https://localhost:8080/",
          "height": 1000
        },
        "id": "SKFHBRwtqvEF",
        "outputId": "046d1fa3-53df-4a10-ad1e-602b7eeeff05"
      },
      "outputs": [],
      "source": [
        "#그래프 그리는 코드\n",
        "score=[]\n",
        "index=[]\n",
        "group = [136]\n",
        "K=1\n",
        "fig=plt.figure()\n",
        "with PdfPages(\"askedManyQ2.pdf\") as pdf:\n",
        "  for i in range(137,265):\n",
        "    if i>1 and worksheet4.row_values(i)[0] == worksheet4.row_values(i-1)[0]:\n",
        "      group.append(i)\n",
        "    else:\n",
        "      if len(group)>1:\n",
        "        try:\n",
        "          score = list(map(float, worksheet4.col_values(4)[group[0]-1:group[-1]]))\n",
        "          index = list(np.arange(1,len(group)+1))\n",
        "        except:\n",
        "          print('error',i,worksheet4.col_values(4)[i])\n",
        "          # index.sort()\n",
        "        group = [i]\n",
        "      else:\n",
        "        group=[]\n",
        "      plt.subplot(2, 2, K)\n",
        "      title = worksheet4.row_values(i-1)[0]\n",
        "      # x축 y축의 숫자들을 숨기는 코드 \n",
        "        # plt.xticks([])\n",
        "        # plt.yticks([])\n",
        "      #그래프 설정\n",
        "      \n",
        "      print(K,\"타이틀 => \",title)\n",
        "      plt.title(title)\n",
        "      plt.ylim(0,5)\n",
        "      plt.tight_layout()\n",
        "      plt.xlabel('index')\n",
        "      plt.ylabel('score')\n",
        "      #그래프 위치, 마진 설정\n",
        "      \n",
        "      plt.subplots_adjust(hspace=1)\n",
        "      #그래프 그림\n",
        "      plt.plot(index, score, marker='o')\n",
        "      if K == 4:\n",
        "        print('saving...')\n",
        "        plt.show()       \n",
        "        pdf.savefig(fig)\n",
        "        plt.close()\n",
        "        fig=plt.figure()\n",
        "        K=1\n",
        "      else:\n",
        "        K+=1\n"
      ]
    },
    {
      "attachments": {},
      "cell_type": "markdown",
      "metadata": {
        "id": "Sb30v63EzLcA"
      },
      "source": [
        "263 ~ 405"
      ]
    },
    {
      "cell_type": "code",
      "execution_count": null,
      "metadata": {
        "colab": {
          "base_uri": "https://localhost:8080/",
          "height": 1000
        },
        "id": "ij-c1UY_sW9N",
        "outputId": "b9390397-4864-43cf-bba5-b2d9d4bad6a8"
      },
      "outputs": [],
      "source": [
        "#그래프 그리는 코드\n",
        "score=[]\n",
        "index=[]\n",
        "group = [263]\n",
        "K=1\n",
        "fig=plt.figure()\n",
        "with PdfPages(\"askedManyQ3.pdf\") as pdf:\n",
        "  for i in range(264,407):\n",
        "    if i>1 and worksheet4.row_values(i)[0] == worksheet4.row_values(i-1)[0]:\n",
        "      group.append(i)\n",
        "    else:\n",
        "      if len(group)>1:\n",
        "        try:\n",
        "          score = list(map(float, worksheet4.col_values(4)[group[0]-1:group[-1]]))\n",
        "          index = list(np.arange(1,len(group)+1))\n",
        "        except:\n",
        "          print('error',i,worksheet4.col_values(4)[i])\n",
        "          # index.sort()\n",
        "        group = [i]\n",
        "      else:\n",
        "        group=[]\n",
        "      plt.subplot(2, 2, K)\n",
        "      title = worksheet4.row_values(i-1)[0]\n",
        "      # x축 y축의 숫자들을 숨기는 코드 \n",
        "        # plt.xticks([])\n",
        "        # plt.yticks([])\n",
        "      #그래프 설정\n",
        "      \n",
        "      print(K,\"타이틀 => \",title)\n",
        "      plt.title(title)\n",
        "      plt.ylim(0,5)\n",
        "      plt.tight_layout()\n",
        "      plt.xlabel('index')\n",
        "      plt.ylabel('score')\n",
        "      #그래프 위치, 마진 설정\n",
        "      \n",
        "      plt.subplots_adjust(hspace=1)\n",
        "      #그래프 그림\n",
        "      plt.plot(index, score, marker='o')\n",
        "      if K == 4:\n",
        "        print('saving...')\n",
        "        plt.show()       \n",
        "        pdf.savefig(fig)\n",
        "        plt.close()\n",
        "        fig=plt.figure()\n",
        "        K=1\n",
        "      else:\n",
        "        K+=1\n"
      ]
    },
    {
      "attachments": {},
      "cell_type": "markdown",
      "metadata": {
        "id": "Yfr_Gyzpzjim"
      },
      "source": [
        "406 ~ 461"
      ]
    },
    {
      "cell_type": "code",
      "execution_count": null,
      "metadata": {
        "colab": {
          "base_uri": "https://localhost:8080/",
          "height": 1000
        },
        "id": "b2SQfft7t8MY",
        "outputId": "47c71f7b-3323-407d-b874-b9d9ea7b3356"
      },
      "outputs": [],
      "source": [
        "#그래프 그리는 코드\n",
        "score=[]\n",
        "index=[]\n",
        "group = [406]\n",
        "K=1\n",
        "fig=plt.figure()\n",
        "with PdfPages(\"askedManyQ4.pdf\") as pdf:\n",
        "  for i in range(407,463):\n",
        "    if i>1 and worksheet4.row_values(i)[0] == worksheet4.row_values(i-1)[0]:\n",
        "      group.append(i)\n",
        "    else:\n",
        "      if len(group)>1:\n",
        "        try:\n",
        "          score = list(map(float, worksheet4.col_values(4)[group[0]-1:group[-1]]))\n",
        "          index = list(np.arange(1,len(group)+1))\n",
        "        except:\n",
        "          print('error',i,worksheet4.col_values(4)[i])\n",
        "          # index.sort()\n",
        "        group = [i]\n",
        "      else:\n",
        "        group=[]\n",
        "      plt.subplot(2, 2, K)\n",
        "      title = worksheet4.row_values(i-1)[0]\n",
        "      # x축 y축의 숫자들을 숨기는 코드 \n",
        "        # plt.xticks([])\n",
        "        # plt.yticks([])\n",
        "      #그래프 설정\n",
        "      \n",
        "      print(K,\"타이틀 => \",title)\n",
        "      plt.title(title)\n",
        "      plt.ylim(0,5)\n",
        "      plt.tight_layout()\n",
        "      plt.xlabel('index')\n",
        "      plt.ylabel('score')\n",
        "      #그래프 위치, 마진 설정\n",
        "      \n",
        "      plt.subplots_adjust(hspace=1)\n",
        "      #그래프 그림\n",
        "      plt.plot(index, score, marker='o')\n",
        "      if K == 4 or i==462:\n",
        "        print('saving...')\n",
        "        plt.show()       \n",
        "        pdf.savefig(fig)\n",
        "        plt.close()\n",
        "        fig=plt.figure()\n",
        "        K=1\n",
        "      else:\n",
        "        K+=1\n"
      ]
    },
    {
      "cell_type": "code",
      "execution_count": null,
      "metadata": {
        "colab": {
          "base_uri": "https://localhost:8080/",
          "height": 1000
        },
        "id": "WQMg7NjVvhIh",
        "outputId": "9bcca86d-f4c6-4b12-db05-3e9cc0b94b69"
      },
      "outputs": [],
      "source": [
        "#그래프 그리는 코드\n",
        "worksheetForExpert = gc.open('[Rating] 그래프 그리기 이전 단계에서 필요한 자료').get_worksheet(8)\n",
        "score=[]\n",
        "index=[]\n",
        "group = []\n",
        "K=1\n",
        "fig=plt.figure()\n",
        "with PdfPages(\"noQdata3.pdf\") as pdf:\n",
        "  for i in range(21,391):\n",
        "    if i>1 and worksheetForExpert.row_values(i)[0] == worksheet4.row_values(i-1)[0]:\n",
        "      group.append(i)\n",
        "    else:\n",
        "      if len(group)>1:\n",
        "        try:\n",
        "          score = list(map(float, worksheetForExpert.col_values(4)[group[0]-1:group[-1]]))\n",
        "          index = list(np.arange(1,len(group)+1))\n",
        "        except:\n",
        "          print('error',i,worksheetForExpert.col_values(4)[i])\n",
        "          # index.sort()\n",
        "        group = [i]\n",
        "      else:\n",
        "        group=[]\n",
        "      plt.subplot(2, 2, K)\n",
        "      title = worksheetForExpert.row_values(i-1)[4]\n",
        "      # x축 y축의 숫자들을 숨기는 코드 \n",
        "        # plt.xticks([])\n",
        "        # plt.yticks([])\n",
        "      #그래프 설정\n",
        "      \n",
        "      print(K,\"타이틀 => \",title)\n",
        "      plt.title(title)\n",
        "      plt.ylim(0,5)\n",
        "      plt.tight_layout()\n",
        "      plt.xlabel('index')\n",
        "      plt.ylabel('score')\n",
        "      #그래프 위치, 마진 설정\n",
        "      \n",
        "      plt.subplots_adjust(hspace=1)\n",
        "      #그래프 그림\n",
        "      plt.plot(index, score, marker='o')\n",
        "      if K == 2:\n",
        "        print('saving...')\n",
        "        plt.show()       \n",
        "        pdf.savefig(fig)\n",
        "        plt.close()\n",
        "        fig=plt.figure()\n",
        "        K=1\n",
        "      else:\n",
        "        K+=1\n"
      ]
    }
  ],
  "metadata": {
    "colab": {
      "collapsed_sections": [],
      "name": "그래프 그리기 연습장.ipynb의 사본",
      "provenance": []
    },
    "kernelspec": {
      "display_name": "Python 3",
      "name": "python3"
    },
    "language_info": {
      "name": "python"
    }
  },
  "nbformat": 4,
  "nbformat_minor": 0
}
